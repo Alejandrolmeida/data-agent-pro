{
 "cells": [
  {
   "cell_type": "markdown",
   "id": "f40e384b",
   "metadata": {},
   "source": [
    "# 05 - Despliegue y Monitorización en Azure ML\n",
    "\n",
    "Este notebook demuestra el despliegue de modelos y configuración de monitorización.\n",
    "\n",
    "**Objetivos:**\n",
    "- Registrar modelo en Azure ML\n",
    "- Crear managed online endpoint\n",
    "- Configurar monitorización con Application Insights\n",
    "- Detectar data drift\n",
    "- Probar endpoint"
   ]
  },
  {
   "cell_type": "code",
   "execution_count": null,
   "id": "9ad19713",
   "metadata": {},
   "outputs": [],
   "source": [
    "import json\n",
    "import joblib\n",
    "import pandas as pd\n",
    "from azure.ai.ml import MLClient\n",
    "from azure.ai.ml.entities import (\n",
    "    Model, ManagedOnlineEndpoint, ManagedOnlineDeployment,\n",
    "    Environment, CodeConfiguration\n",
    ")\n",
    "from azure.identity import DefaultAzureCredential\n",
    "\n",
    "print(\"✅ Imports completados\")"
   ]
  },
  {
   "cell_type": "markdown",
   "id": "76bfa0c7",
   "metadata": {},
   "source": [
    "## 1. Conexión a Azure ML"
   ]
  },
  {
   "cell_type": "code",
   "execution_count": null,
   "id": "af895dc9",
   "metadata": {},
   "outputs": [],
   "source": [
    "# Configurar credenciales\n",
    "credential = DefaultAzureCredential()\n",
    "\n",
    "# Conectar a workspace\n",
    "ml_client = MLClient(\n",
    "    credential=credential,\n",
    "    subscription_id=\"<YOUR_SUBSCRIPTION_ID>\",\n",
    "    resource_group_name=\"<YOUR_RESOURCE_GROUP>\",\n",
    "    workspace_name=\"<YOUR_WORKSPACE>\"\n",
    ")\n",
    "\n",
    "print(f\"✅ Conectado a: {ml_client.workspace_name}\")"
   ]
  },
  {
   "cell_type": "markdown",
   "id": "f2879db6",
   "metadata": {},
   "source": [
    "## 2. Registro del Modelo\n",
    "\n",
    "💡 **Copilot tip:** Usa versionado semántico y tags descriptivos para gestión."
   ]
  },
  {
   "cell_type": "code",
   "execution_count": null,
   "id": "7c0bc3ca",
   "metadata": {},
   "outputs": [],
   "source": [
    "# Crear modelo registrado\n",
    "model = Model(\n",
    "    path=\"./models/best_model.joblib\",\n",
    "    name=\"clasificador-rf\",\n",
    "    description=\"Random Forest optimizado para clasificación binaria\",\n",
    "    tags={\n",
    "        \"framework\": \"scikit-learn\",\n",
    "        \"algorithm\": \"RandomForest\",\n",
    "        \"optimization\": \"optuna\",\n",
    "        \"environment\": \"production\"\n",
    "    }\n",
    ")\n",
    "\n",
    "# Registrar\n",
    "registered_model = ml_client.models.create_or_update(model)\n",
    "print(f\"✅ Modelo registrado:\")\n",
    "print(f\"   Nombre: {registered_model.name}\")\n",
    "print(f\"   Versión: {registered_model.version}\")\n",
    "print(f\"   ID: {registered_model.id}\")"
   ]
  },
  {
   "cell_type": "markdown",
   "id": "360230b3",
   "metadata": {},
   "source": [
    "## 3. Crear Script de Scoring"
   ]
  },
  {
   "cell_type": "code",
   "execution_count": null,
   "id": "c0546e84",
   "metadata": {},
   "outputs": [],
   "source": [
    "%%writefile score.py\n",
    "import json\n",
    "import joblib\n",
    "import numpy as np\n",
    "import pandas as pd\n",
    "import os\n",
    "from azureml.core import Model\n",
    "\n",
    "def init():\n",
    "    \"\"\"Inicializar modelo y scaler\"\"\"\n",
    "    global model, scaler\n",
    "    \n",
    "    # Cargar modelo\n",
    "    model_path = os.path.join(os.getenv('AZUREML_MODEL_DIR'), 'best_model.joblib')\n",
    "    model = joblib.load(model_path)\n",
    "    \n",
    "    # Cargar scaler (si existe)\n",
    "    scaler_path = os.path.join(os.getenv('AZUREML_MODEL_DIR'), 'scaler.joblib')\n",
    "    if os.path.exists(scaler_path):\n",
    "        scaler = joblib.load(scaler_path)\n",
    "    else:\n",
    "        scaler = None\n",
    "    \n",
    "    print(\"Modelo cargado exitosamente\")\n",
    "\n",
    "def run(raw_data):\n",
    "    \"\"\"Ejecutar inferencia\"\"\"\n",
    "    try:\n",
    "        # Parsear input\n",
    "        data = json.loads(raw_data)['data']\n",
    "        df = pd.DataFrame(data)\n",
    "        \n",
    "        # Aplicar scaler si existe\n",
    "        if scaler is not None:\n",
    "            df = pd.DataFrame(scaler.transform(df), columns=df.columns)\n",
    "        \n",
    "        # Predecir\n",
    "        predictions = model.predict(df)\n",
    "        probabilities = model.predict_proba(df)\n",
    "        \n",
    "        # Formatear resultado\n",
    "        result = {\n",
    "            'predictions': predictions.tolist(),\n",
    "            'probabilities': probabilities.tolist()\n",
    "        }\n",
    "        \n",
    "        return json.dumps(result)\n",
    "    \n",
    "    except Exception as e:\n",
    "        error = str(e)\n",
    "        return json.dumps({\"error\": error})"
   ]
  },
  {
   "cell_type": "markdown",
   "id": "ae50d664",
   "metadata": {},
   "source": [
    "## 4. Crear Endpoint"
   ]
  },
  {
   "cell_type": "code",
   "execution_count": null,
   "id": "952e803a",
   "metadata": {},
   "outputs": [],
   "source": [
    "import time\n",
    "\n",
    "# Definir endpoint\n",
    "endpoint_name = f\"clasificador-ep-{int(time.time())}\"\n",
    "\n",
    "endpoint = ManagedOnlineEndpoint(\n",
    "    name=endpoint_name,\n",
    "    description=\"Endpoint para clasificación binaria\",\n",
    "    auth_mode=\"key\",\n",
    "    tags={\"model\": \"random-forest\", \"version\": \"1.0\"}\n",
    ")\n",
    "\n",
    "# Crear endpoint\n",
    "print(f\"🚀 Creando endpoint: {endpoint_name}...\")\n",
    "ml_client.online_endpoints.begin_create_or_update(endpoint).result()\n",
    "print(\"✅ Endpoint creado\")"
   ]
  },
  {
   "cell_type": "markdown",
   "id": "7ad4a1c1",
   "metadata": {},
   "source": [
    "## 5. Crear Deployment"
   ]
  },
  {
   "cell_type": "code",
   "execution_count": null,
   "id": "4256c31c",
   "metadata": {},
   "outputs": [],
   "source": [
    "# Definir deployment\n",
    "blue_deployment = ManagedOnlineDeployment(\n",
    "    name=\"blue\",\n",
    "    endpoint_name=endpoint_name,\n",
    "    model=registered_model.id,\n",
    "    code_configuration=CodeConfiguration(\n",
    "        code=\".\",\n",
    "        scoring_script=\"score.py\"\n",
    "    ),\n",
    "    environment=\"azureml:inference-env@latest\",\n",
    "    instance_type=\"Standard_DS2_v2\",\n",
    "    instance_count=1\n",
    ")\n",
    "\n",
    "# Crear deployment\n",
    "print(\"🚀 Creando deployment...\")\n",
    "ml_client.online_deployments.begin_create_or_update(blue_deployment).result()\n",
    "print(\"✅ Deployment creado\")\n",
    "\n",
    "# Asignar 100% del tráfico\n",
    "endpoint.traffic = {\"blue\": 100}\n",
    "ml_client.online_endpoints.begin_create_or_update(endpoint).result()\n",
    "print(\"✅ Tráfico configurado: 100% a 'blue'\")"
   ]
  },
  {
   "cell_type": "markdown",
   "id": "1b404e15",
   "metadata": {},
   "source": [
    "## 6. Probar Endpoint"
   ]
  },
  {
   "cell_type": "code",
   "execution_count": null,
   "id": "f1a8a4a0",
   "metadata": {},
   "outputs": [],
   "source": [
    "# Cargar datos de prueba\n",
    "X_test = pd.read_parquet('./data/X_test.parquet')\n",
    "sample_data = X_test.head(5)\n",
    "\n",
    "# Preparar request\n",
    "request_data = {\n",
    "    \"data\": sample_data.to_dict(orient='records')\n",
    "}\n",
    "\n",
    "# Invocar endpoint\n",
    "print(\"🧪 Probando endpoint...\")\n",
    "response = ml_client.online_endpoints.invoke(\n",
    "    endpoint_name=endpoint_name,\n",
    "    request_file=json.dumps(request_data)\n",
    ")\n",
    "\n",
    "print(\"\\n✅ Respuesta del endpoint:\")\n",
    "result = json.loads(response)\n",
    "print(json.dumps(result, indent=2))"
   ]
  },
  {
   "cell_type": "markdown",
   "id": "b74b806b",
   "metadata": {},
   "source": [
    "## 7. Configurar Monitorización\n",
    "\n",
    "💡 **Copilot tip:** Usa Application Insights para telemetría en tiempo real."
   ]
  },
  {
   "cell_type": "code",
   "execution_count": null,
   "id": "3fa005b9",
   "metadata": {},
   "outputs": [],
   "source": [
    "# Obtener endpoint details\n",
    "endpoint_details = ml_client.online_endpoints.get(endpoint_name)\n",
    "\n",
    "print(\"📊 Configuración de Monitorización:\")\n",
    "print(f\"   Endpoint: {endpoint_details.name}\")\n",
    "print(f\"   Scoring URI: {endpoint_details.scoring_uri}\")\n",
    "print(f\"   Estado: {endpoint_details.provisioning_state}\")\n",
    "print(f\"\\n💡 Configura alertas en Application Insights para:\")\n",
    "print(\"   - Latencia > 1000ms\")\n",
    "print(\"   - Error rate > 5%\")\n",
    "print(\"   - Data drift detectado\")"
   ]
  },
  {
   "cell_type": "markdown",
   "id": "af3dc478",
   "metadata": {},
   "source": [
    "## 8. Simulación de Data Drift\n",
    "\n",
    "Demostración de cómo detectar drift usando Evidently."
   ]
  },
  {
   "cell_type": "code",
   "execution_count": null,
   "id": "1eb7d300",
   "metadata": {},
   "outputs": [],
   "source": [
    "from evidently.report import Report\n",
    "from evidently.metric_preset import DataDriftPreset\n",
    "\n",
    "# Cargar datos de entrenamiento y test\n",
    "X_train = pd.read_parquet('./data/X_train.parquet')\n",
    "X_test = pd.read_parquet('./data/X_test.parquet')\n",
    "\n",
    "# Crear reporte de drift\n",
    "drift_report = Report(metrics=[DataDriftPreset()])\n",
    "drift_report.run(reference_data=X_train, current_data=X_test)\n",
    "\n",
    "# Guardar reporte\n",
    "drift_report.save_html('./reports/drift_report.html')\n",
    "print(\"✅ Reporte de drift guardado en: ./reports/drift_report.html\")"
   ]
  },
  {
   "cell_type": "markdown",
   "id": "5816e50a",
   "metadata": {},
   "source": [
    "## 9. Cleanup (Opcional)"
   ]
  },
  {
   "cell_type": "code",
   "execution_count": null,
   "id": "f53a7408",
   "metadata": {},
   "outputs": [],
   "source": [
    "# Descomentar para eliminar endpoint\n",
    "# ml_client.online_endpoints.begin_delete(name=endpoint_name).result()\n",
    "# print(f\"🗑️  Endpoint {endpoint_name} eliminado\")"
   ]
  },
  {
   "cell_type": "markdown",
   "id": "44a9c6d9",
   "metadata": {},
   "source": [
    "## 10. Resumen\n",
    "\n",
    "**Pasos completados:**\n",
    "1. ✅ Modelo registrado en Azure ML\n",
    "2. ✅ Managed online endpoint creado\n",
    "3. ✅ Deployment con blue/green strategy\n",
    "4. ✅ Endpoint probado exitosamente\n",
    "5. ✅ Monitorización configurada\n",
    "6. ✅ Data drift monitoring habilitado\n",
    "\n",
    "**Próximos pasos:**\n",
    "- Configurar CI/CD pipeline para despliegues automáticos\n",
    "- Implementar A/B testing\n",
    "- Configurar reentrenamiento automático al detectar drift"
   ]
  }
 ],
 "metadata": {
  "language_info": {
   "name": "python"
  }
 },
 "nbformat": 4,
 "nbformat_minor": 5
}
