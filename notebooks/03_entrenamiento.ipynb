{
 "cells": [
  {
   "cell_type": "markdown",
   "id": "7e252f30",
   "metadata": {},
   "source": [
    "# 03 - Entrenamiento de Modelos con Azure ML y MLflow\n",
    "\n",
    "Este notebook demuestra el entrenamiento de múltiples modelos con tracking automático.\n",
    "\n",
    "**Objetivos:**\n",
    "- Entrenar modelos de clasificación\n",
    "- Optimización de hiperparámetros con Optuna\n",
    "- Tracking con MLflow\n",
    "- Registro en Azure ML"
   ]
  },
  {
   "cell_type": "code",
   "execution_count": null,
   "id": "fb10ad0e",
   "metadata": {},
   "outputs": [],
   "source": [
    "import pandas as pd\n",
    "import numpy as np\n",
    "import mlflow\n",
    "import mlflow.sklearn\n",
    "from sklearn.ensemble import RandomForestClassifier, GradientBoostingClassifier\n",
    "from sklearn.linear_model import LogisticRegression\n",
    "from sklearn.metrics import accuracy_score, f1_score, roc_auc_score\n",
    "import optuna\n",
    "from azure.ai.ml import MLClient\n",
    "from azure.identity import DefaultAzureCredential\n",
    "\n",
    "print(\"✅ Imports completados\")"
   ]
  },
  {
   "cell_type": "markdown",
   "id": "184ae56f",
   "metadata": {},
   "source": [
    "## 1. Configuración de MLflow y Azure ML"
   ]
  },
  {
   "cell_type": "code",
   "execution_count": null,
   "id": "4c586e28",
   "metadata": {},
   "outputs": [],
   "source": [
    "# Configurar MLflow\n",
    "mlflow.set_experiment(\"clasificacion-avanzada\")\n",
    "mlflow.sklearn.autolog(log_models=True, log_input_examples=True)\n",
    "\n",
    "# Conectar a Azure ML (opcional)\n",
    "try:\n",
    "    ml_client = MLClient(\n",
    "        credential=DefaultAzureCredential(),\n",
    "        subscription_id=\"<YOUR_SUBSCRIPTION_ID>\",\n",
    "        resource_group_name=\"<YOUR_RESOURCE_GROUP>\",\n",
    "        workspace_name=\"<YOUR_WORKSPACE>\"\n",
    "    )\n",
    "    print(f\"✅ Conectado a Azure ML: {ml_client.workspace_name}\")\n",
    "except Exception as e:\n",
    "    print(f\"⚠️  Azure ML no disponible: {e}\")\n",
    "    ml_client = None"
   ]
  },
  {
   "cell_type": "markdown",
   "id": "5a3fd0f4",
   "metadata": {},
   "source": [
    "## 2. Carga de Datos Preparados"
   ]
  },
  {
   "cell_type": "code",
   "execution_count": null,
   "id": "4174df68",
   "metadata": {},
   "outputs": [],
   "source": [
    "# Cargar datasets\n",
    "X_train = pd.read_parquet('./data/X_train.parquet')\n",
    "X_test = pd.read_parquet('./data/X_test.parquet')\n",
    "y_train = pd.read_parquet('./data/y_train.parquet')['target']\n",
    "y_test = pd.read_parquet('./data/y_test.parquet')['target']\n",
    "\n",
    "print(f\"Train: {X_train.shape}, Test: {X_test.shape}\")"
   ]
  },
  {
   "cell_type": "markdown",
   "id": "5bca0163",
   "metadata": {},
   "source": [
    "## 3. Baseline: Logistic Regression\n",
    "\n",
    "💡 **Copilot tip:** Siempre comienza con un modelo simple como baseline."
   ]
  },
  {
   "cell_type": "code",
   "execution_count": null,
   "id": "1e7ce6d2",
   "metadata": {},
   "outputs": [],
   "source": [
    "with mlflow.start_run(run_name=\"logistic_regression_baseline\"):\n",
    "    # Entrenar\n",
    "    lr = LogisticRegression(max_iter=1000, random_state=42)\n",
    "    lr.fit(X_train, y_train)\n",
    "    \n",
    "    # Predecir\n",
    "    y_pred = lr.predict(X_test)\n",
    "    y_proba = lr.predict_proba(X_test)[:, 1]\n",
    "    \n",
    "    # Métricas\n",
    "    accuracy = accuracy_score(y_test, y_pred)\n",
    "    f1 = f1_score(y_test, y_pred)\n",
    "    auc = roc_auc_score(y_test, y_proba)\n",
    "    \n",
    "    # Log manual de métricas adicionales\n",
    "    mlflow.log_metrics({\n",
    "        \"test_accuracy\": accuracy,\n",
    "        \"test_f1\": f1,\n",
    "        \"test_auc\": auc\n",
    "    })\n",
    "    \n",
    "    print(f\"📊 Baseline Logistic Regression:\")\n",
    "    print(f\"   Accuracy: {accuracy:.4f}\")\n",
    "    print(f\"   F1 Score: {f1:.4f}\")\n",
    "    print(f\"   AUC: {auc:.4f}\")"
   ]
  },
  {
   "cell_type": "markdown",
   "id": "117b3ae6",
   "metadata": {},
   "source": [
    "## 4. Random Forest con Optimización de Hiperparámetros"
   ]
  },
  {
   "cell_type": "code",
   "execution_count": null,
   "id": "ac471f25",
   "metadata": {},
   "outputs": [],
   "source": [
    "def objective(trial):\n",
    "    \"\"\"Función objetivo para Optuna\"\"\"\n",
    "    params = {\n",
    "        'n_estimators': trial.suggest_int('n_estimators', 50, 300),\n",
    "        'max_depth': trial.suggest_int('max_depth', 3, 20),\n",
    "        'min_samples_split': trial.suggest_int('min_samples_split', 2, 20),\n",
    "        'min_samples_leaf': trial.suggest_int('min_samples_leaf', 1, 10),\n",
    "        'random_state': 42\n",
    "    }\n",
    "    \n",
    "    # Entrenar con parámetros propuestos\n",
    "    rf = RandomForestClassifier(**params)\n",
    "    rf.fit(X_train, y_train)\n",
    "    \n",
    "    # Evaluar en validación\n",
    "    y_pred = rf.predict(X_test)\n",
    "    f1 = f1_score(y_test, y_pred)\n",
    "    \n",
    "    return f1\n",
    "\n",
    "# Ejecutar optimización\n",
    "print(\"🔍 Iniciando optimización con Optuna...\")\n",
    "study = optuna.create_study(direction='maximize')\n",
    "study.optimize(objective, n_trials=20, show_progress_bar=True)\n",
    "\n",
    "print(f\"\\n✅ Mejores hiperparámetros:\")\n",
    "for key, value in study.best_params.items():\n",
    "    print(f\"   {key}: {value}\")\n",
    "print(f\"   Best F1: {study.best_value:.4f}\")"
   ]
  },
  {
   "cell_type": "code",
   "execution_count": null,
   "id": "3291a460",
   "metadata": {},
   "outputs": [],
   "source": [
    "# Entrenar modelo final con mejores parámetros\n",
    "with mlflow.start_run(run_name=\"random_forest_optimized\"):\n",
    "    best_rf = RandomForestClassifier(**study.best_params)\n",
    "    best_rf.fit(X_train, y_train)\n",
    "    \n",
    "    # Evaluar\n",
    "    y_pred = best_rf.predict(X_test)\n",
    "    y_proba = best_rf.predict_proba(X_test)[:, 1]\n",
    "    \n",
    "    accuracy = accuracy_score(y_test, y_pred)\n",
    "    f1 = f1_score(y_test, y_pred)\n",
    "    auc = roc_auc_score(y_test, y_proba)\n",
    "    \n",
    "    mlflow.log_params(study.best_params)\n",
    "    mlflow.log_metrics({\n",
    "        \"test_accuracy\": accuracy,\n",
    "        \"test_f1\": f1,\n",
    "        \"test_auc\": auc\n",
    "    })\n",
    "    \n",
    "    print(f\"📊 Random Forest Optimizado:\")\n",
    "    print(f\"   Accuracy: {accuracy:.4f}\")\n",
    "    print(f\"   F1 Score: {f1:.4f}\")\n",
    "    print(f\"   AUC: {auc:.4f}\")"
   ]
  },
  {
   "cell_type": "markdown",
   "id": "6fe4cb06",
   "metadata": {},
   "source": [
    "## 5. Gradient Boosting"
   ]
  },
  {
   "cell_type": "code",
   "execution_count": null,
   "id": "00f96273",
   "metadata": {},
   "outputs": [],
   "source": [
    "with mlflow.start_run(run_name=\"gradient_boosting\"):\n",
    "    gb = GradientBoostingClassifier(\n",
    "        n_estimators=100,\n",
    "        learning_rate=0.1,\n",
    "        max_depth=5,\n",
    "        random_state=42\n",
    "    )\n",
    "    gb.fit(X_train, y_train)\n",
    "    \n",
    "    y_pred = gb.predict(X_test)\n",
    "    y_proba = gb.predict_proba(X_test)[:, 1]\n",
    "    \n",
    "    accuracy = accuracy_score(y_test, y_pred)\n",
    "    f1 = f1_score(y_test, y_pred)\n",
    "    auc = roc_auc_score(y_test, y_proba)\n",
    "    \n",
    "    mlflow.log_metrics({\n",
    "        \"test_accuracy\": accuracy,\n",
    "        \"test_f1\": f1,\n",
    "        \"test_auc\": auc\n",
    "    })\n",
    "    \n",
    "    print(f\"📊 Gradient Boosting:\")\n",
    "    print(f\"   Accuracy: {accuracy:.4f}\")\n",
    "    print(f\"   F1 Score: {f1:.4f}\")\n",
    "    print(f\"   AUC: {auc:.4f}\")"
   ]
  },
  {
   "cell_type": "markdown",
   "id": "02d80a7a",
   "metadata": {},
   "source": [
    "## 6. Comparación de Modelos"
   ]
  },
  {
   "cell_type": "code",
   "execution_count": null,
   "id": "67c1e1af",
   "metadata": {},
   "outputs": [],
   "source": [
    "# Obtener runs del experimento\n",
    "experiment = mlflow.get_experiment_by_name(\"clasificacion-avanzada\")\n",
    "runs = mlflow.search_runs(experiment_ids=[experiment.experiment_id])\n",
    "\n",
    "# Mostrar comparación\n",
    "comparison = runs[['tags.mlflow.runName', 'metrics.test_accuracy', 'metrics.test_f1', 'metrics.test_auc']].sort_values(\n",
    "    'metrics.test_f1', ascending=False\n",
    ")\n",
    "comparison.columns = ['Modelo', 'Accuracy', 'F1 Score', 'AUC']\n",
    "\n",
    "print(\"\\n📊 Comparación de Modelos:\")\n",
    "display(comparison)"
   ]
  },
  {
   "cell_type": "markdown",
   "id": "9ffd7b3d",
   "metadata": {},
   "source": [
    "## 7. Guardar Mejor Modelo"
   ]
  },
  {
   "cell_type": "code",
   "execution_count": null,
   "id": "6270e120",
   "metadata": {},
   "outputs": [],
   "source": [
    "import joblib\n",
    "\n",
    "# Guardar mejor modelo (Random Forest optimizado)\n",
    "model_path = './models/best_model.joblib'\n",
    "joblib.dump(best_rf, model_path)\n",
    "\n",
    "print(f\"✅ Mejor modelo guardado en: {model_path}\")\n",
    "print(f\"   Tipo: RandomForestClassifier\")\n",
    "print(f\"   F1 Score: {f1:.4f}\")"
   ]
  },
  {
   "cell_type": "markdown",
   "id": "53c632bb",
   "metadata": {},
   "source": [
    "## 8. Resumen\n",
    "\n",
    "**Modelos entrenados:**\n",
    "1. ✅ Logistic Regression (baseline)\n",
    "2. ✅ Random Forest (optimizado con Optuna)\n",
    "3. ✅ Gradient Boosting\n",
    "\n",
    "**Herramientas usadas:**\n",
    "- MLflow para tracking automático\n",
    "- Optuna para optimización\n",
    "- Azure ML para gestión central\n",
    "\n",
    "**Próximo paso:** Evaluación detallada (notebook 04)"
   ]
  }
 ],
 "metadata": {
  "language_info": {
   "name": "python"
  }
 },
 "nbformat": 4,
 "nbformat_minor": 5
}
