{
 "cells": [
  {
   "cell_type": "markdown",
   "id": "dc8f0466",
   "metadata": {},
   "source": [
    "# 01 - Exploración de Datos con Azure ML\n",
    "\n",
    "Este notebook demuestra el uso de GitHub Copilot para acelerar la exploración de datos en Azure ML.\n",
    "\n",
    "**Objetivos:**\n",
    "- Conectar a Azure ML workspace\n",
    "- Cargar datos desde Azure Data Lake\n",
    "- Realizar análisis exploratorio (EDA)\n",
    "- Generar visualizaciones interactivas\n",
    "- Detectar calidad de datos"
   ]
  },
  {
   "cell_type": "code",
   "execution_count": null,
   "id": "bd7594ff",
   "metadata": {},
   "outputs": [],
   "source": [
    "# Imports y configuración\n",
    "import pandas as pd\n",
    "import numpy as np\n",
    "import matplotlib.pyplot as plt\n",
    "import seaborn as sns\n",
    "from azure.ai.ml import MLClient\n",
    "from azure.identity import DefaultAzureCredential\n",
    "from great_expectations.dataset import PandasDataset\n",
    "\n",
    "# Configuración de visualización\n",
    "sns.set_style('whitegrid')\n",
    "plt.rcParams['figure.figsize'] = (12, 6)\n",
    "\n",
    "print(\"✅ Imports completados\")"
   ]
  },
  {
   "cell_type": "markdown",
   "id": "78e19c78",
   "metadata": {},
   "source": [
    "## 1. Conexión a Azure ML Workspace"
   ]
  },
  {
   "cell_type": "code",
   "execution_count": null,
   "id": "4814abe5",
   "metadata": {},
   "outputs": [],
   "source": [
    "# Conectar a Azure ML\n",
    "credential = DefaultAzureCredential()\n",
    "ml_client = MLClient(\n",
    "    credential=credential,\n",
    "    subscription_id=\"<YOUR_SUBSCRIPTION_ID>\",\n",
    "    resource_group_name=\"<YOUR_RESOURCE_GROUP>\",\n",
    "    workspace_name=\"<YOUR_WORKSPACE>\"\n",
    ")\n",
    "\n",
    "print(f\"Conectado a workspace: {ml_client.workspace_name}\")"
   ]
  },
  {
   "cell_type": "markdown",
   "id": "9ec3e705",
   "metadata": {},
   "source": [
    "## 2. Carga de Datos\n",
    "\n",
    "💡 **Copilot tip:** Usa `/explain` para entender cómo cargar datos desde diferentes fuentes."
   ]
  },
  {
   "cell_type": "code",
   "execution_count": null,
   "id": "39b22e27",
   "metadata": {},
   "outputs": [],
   "source": [
    "# Ejemplo: cargar dataset de ejemplo (reemplazar con tus datos)\n",
    "# Para demo usaremos un dataset sintético\n",
    "from sklearn.datasets import make_classification\n",
    "\n",
    "X, y = make_classification(\n",
    "    n_samples=10000,\n",
    "    n_features=20,\n",
    "    n_informative=15,\n",
    "    n_redundant=5,\n",
    "    random_state=42\n",
    ")\n",
    "\n",
    "# Crear DataFrame\n",
    "feature_names = [f'feature_{i}' for i in range(X.shape[1])]\n",
    "df = pd.DataFrame(X, columns=feature_names)\n",
    "df['target'] = y\n",
    "\n",
    "print(f\"Dataset cargado: {df.shape[0]:,} filas, {df.shape[1]} columnas\")\n",
    "df.head()"
   ]
  },
  {
   "cell_type": "markdown",
   "id": "fb59d3c0",
   "metadata": {},
   "source": [
    "## 3. Análisis Exploratorio de Datos (EDA)"
   ]
  },
  {
   "cell_type": "code",
   "execution_count": null,
   "id": "4cc3e22f",
   "metadata": {},
   "outputs": [],
   "source": [
    "# Resumen estadístico\n",
    "print(\"📊 Resumen Estadístico:\")\n",
    "display(df.describe())\n",
    "\n",
    "# Información del dataset\n",
    "print(\"\\n📋 Información del Dataset:\")\n",
    "df.info()"
   ]
  },
  {
   "cell_type": "code",
   "execution_count": null,
   "id": "e026509c",
   "metadata": {},
   "outputs": [],
   "source": [
    "# Análisis de valores nulos\n",
    "null_counts = df.isnull().sum()\n",
    "if null_counts.sum() > 0:\n",
    "    print(\"⚠️  Valores nulos detectados:\")\n",
    "    print(null_counts[null_counts > 0])\n",
    "else:\n",
    "    print(\"✅ No hay valores nulos\")"
   ]
  },
  {
   "cell_type": "code",
   "execution_count": null,
   "id": "8bb013fb",
   "metadata": {},
   "outputs": [],
   "source": [
    "# Distribución de la variable target\n",
    "fig, axes = plt.subplots(1, 2, figsize=(14, 5))\n",
    "\n",
    "# Conteo\n",
    "df['target'].value_counts().plot(kind='bar', ax=axes[0], color=['#2ecc71', '#e74c3c'])\n",
    "axes[0].set_title('Distribución de Target', fontsize=14, fontweight='bold')\n",
    "axes[0].set_xlabel('Clase')\n",
    "axes[0].set_ylabel('Frecuencia')\n",
    "\n",
    "# Porcentaje\n",
    "df['target'].value_counts(normalize=True).plot(kind='pie', ax=axes[1], autopct='%1.1f%%')\n",
    "axes[1].set_title('Proporción de Clases', fontsize=14, fontweight='bold')\n",
    "axes[1].set_ylabel('')\n",
    "\n",
    "plt.tight_layout()\n",
    "plt.show()"
   ]
  },
  {
   "cell_type": "markdown",
   "id": "333b86c3",
   "metadata": {},
   "source": [
    "## 4. Análisis de Correlaciones"
   ]
  },
  {
   "cell_type": "code",
   "execution_count": null,
   "id": "04d4bbdb",
   "metadata": {},
   "outputs": [],
   "source": [
    "# Matriz de correlación\n",
    "correlation_matrix = df.corr()\n",
    "\n",
    "# Top correlaciones con target\n",
    "target_corr = correlation_matrix['target'].sort_values(ascending=False)\n",
    "print(\"🎯 Top 10 features correlacionadas con target:\")\n",
    "print(target_corr.head(11))  # 11 porque incluye la correlación consigo mismo"
   ]
  },
  {
   "cell_type": "code",
   "execution_count": null,
   "id": "479d1331",
   "metadata": {},
   "outputs": [],
   "source": [
    "# Heatmap de correlaciones\n",
    "plt.figure(figsize=(16, 12))\n",
    "sns.heatmap(\n",
    "    correlation_matrix,\n",
    "    cmap='coolwarm',\n",
    "    center=0,\n",
    "    square=True,\n",
    "    linewidths=0.5,\n",
    "    cbar_kws={\"shrink\": 0.8}\n",
    ")\n",
    "plt.title('Matriz de Correlación de Features', fontsize=16, fontweight='bold')\n",
    "plt.tight_layout()\n",
    "plt.show()"
   ]
  },
  {
   "cell_type": "markdown",
   "id": "f18ce61b",
   "metadata": {},
   "source": [
    "## 5. Validación de Calidad con Great Expectations\n",
    "\n",
    "💡 **Copilot tip:** Usa `/doc` para generar expectativas automáticamente."
   ]
  },
  {
   "cell_type": "code",
   "execution_count": null,
   "id": "bde43e22",
   "metadata": {},
   "outputs": [],
   "source": [
    "# Crear dataset con Great Expectations\n",
    "ge_df = PandasDataset(df)\n",
    "\n",
    "# Definir expectativas\n",
    "expectations = [\n",
    "    ge_df.expect_table_row_count_to_be_between(min_value=1000, max_value=100000),\n",
    "    ge_df.expect_column_values_to_not_be_null('target'),\n",
    "    ge_df.expect_column_values_to_be_in_set('target', [0, 1]),\n",
    "]\n",
    "\n",
    "# Validar\n",
    "for exp in expectations:\n",
    "    if exp['success']:\n",
    "        print(f\"✅ {exp['expectation_type']}\")\n",
    "    else:\n",
    "        print(f\"❌ {exp['expectation_type']}: {exp.get('result', 'Failed')}\")"
   ]
  },
  {
   "cell_type": "markdown",
   "id": "5d816c9d",
   "metadata": {},
   "source": [
    "## 6. Resumen y Próximos Pasos\n",
    "\n",
    "**Hallazgos clave:**\n",
    "- Dataset balanceado con ~50% de cada clase\n",
    "- Sin valores nulos\n",
    "- Features con diferentes niveles de correlación con target\n",
    "\n",
    "**Próximos pasos:**\n",
    "1. Preparación de datos (notebook 02)\n",
    "2. Feature engineering\n",
    "3. Entrenamiento de modelos"
   ]
  },
  {
   "cell_type": "code",
   "execution_count": null,
   "id": "51e7687f",
   "metadata": {},
   "outputs": [],
   "source": [
    "# Guardar dataset procesado para el siguiente notebook\n",
    "output_path = './data/exploracion_completa.parquet'\n",
    "df.to_parquet(output_path, index=False)\n",
    "print(f\"✅ Dataset guardado en: {output_path}\")"
   ]
  }
 ],
 "metadata": {
  "language_info": {
   "name": "python"
  }
 },
 "nbformat": 4,
 "nbformat_minor": 5
}
